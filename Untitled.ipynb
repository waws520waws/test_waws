{
 "cells": [
  {
   "cell_type": "code",
   "execution_count": 1,
   "id": "74a11f52",
   "metadata": {},
   "outputs": [],
   "source": [
    "import pandas\n",
    "import random\n",
    "from tqdm import tqdm"
   ]
  },
  {
   "cell_type": "code",
   "execution_count": 2,
   "id": "fbfeada1",
   "metadata": {},
   "outputs": [],
   "source": [
    "data = pandas.read_csv(\"data32.csv\")"
   ]
  },
  {
   "cell_type": "code",
   "execution_count": 3,
   "id": "b61da0b1",
   "metadata": {},
   "outputs": [
    {
     "data": {
      "text/html": [
       "<div>\n",
       "<style scoped>\n",
       "    .dataframe tbody tr th:only-of-type {\n",
       "        vertical-align: middle;\n",
       "    }\n",
       "\n",
       "    .dataframe tbody tr th {\n",
       "        vertical-align: top;\n",
       "    }\n",
       "\n",
       "    .dataframe thead th {\n",
       "        text-align: right;\n",
       "    }\n",
       "</style>\n",
       "<table border=\"1\" class=\"dataframe\">\n",
       "  <thead>\n",
       "    <tr style=\"text-align: right;\">\n",
       "      <th></th>\n",
       "      <th>OrderIndex</th>\n",
       "      <th>CardNo</th>\n",
       "      <th>PeoNo</th>\n",
       "      <th>Date</th>\n",
       "      <th>Money</th>\n",
       "      <th>CardCount</th>\n",
       "      <th>Type</th>\n",
       "      <th>RoomNo</th>\n",
       "      <th>RoomType</th>\n",
       "    </tr>\n",
       "  </thead>\n",
       "  <tbody>\n",
       "    <tr>\n",
       "      <th>0</th>\n",
       "      <td>117342773</td>\n",
       "      <td>181316</td>\n",
       "      <td>20181316</td>\n",
       "      <td>2022/4/20 20:17</td>\n",
       "      <td>380.0</td>\n",
       "      <td>818</td>\n",
       "      <td>3</td>\n",
       "      <td>304</td>\n",
       "      <td>商务大床房</td>\n",
       "    </tr>\n",
       "    <tr>\n",
       "      <th>1</th>\n",
       "      <td>117344766</td>\n",
       "      <td>181316</td>\n",
       "      <td>20181316</td>\n",
       "      <td>2022/4/20 8:47</td>\n",
       "      <td>380.0</td>\n",
       "      <td>814</td>\n",
       "      <td>3</td>\n",
       "      <td>309</td>\n",
       "      <td>商务大床房</td>\n",
       "    </tr>\n",
       "    <tr>\n",
       "      <th>2</th>\n",
       "      <td>117346258</td>\n",
       "      <td>181316</td>\n",
       "      <td>20181316</td>\n",
       "      <td>2022/4/22 7:27</td>\n",
       "      <td>165.0</td>\n",
       "      <td>820</td>\n",
       "      <td>1</td>\n",
       "      <td>402</td>\n",
       "      <td>标准单人间</td>\n",
       "    </tr>\n",
       "    <tr>\n",
       "      <th>3</th>\n",
       "      <td>117308066</td>\n",
       "      <td>181317</td>\n",
       "      <td>20181317</td>\n",
       "      <td>2022/4/21 7:46</td>\n",
       "      <td>380.0</td>\n",
       "      <td>211</td>\n",
       "      <td>3</td>\n",
       "      <td>308</td>\n",
       "      <td>商务大床房</td>\n",
       "    </tr>\n",
       "    <tr>\n",
       "      <th>4</th>\n",
       "      <td>117309001</td>\n",
       "      <td>181317</td>\n",
       "      <td>20181317</td>\n",
       "      <td>2022/4/19 22:31</td>\n",
       "      <td>40.0</td>\n",
       "      <td>209</td>\n",
       "      <td>5</td>\n",
       "      <td>106</td>\n",
       "      <td>小时房</td>\n",
       "    </tr>\n",
       "    <tr>\n",
       "      <th>5</th>\n",
       "      <td>117340105</td>\n",
       "      <td>181317</td>\n",
       "      <td>20181317</td>\n",
       "      <td>2022/4/20 12:14</td>\n",
       "      <td>165.0</td>\n",
       "      <td>210</td>\n",
       "      <td>1</td>\n",
       "      <td>304</td>\n",
       "      <td>标准单人间</td>\n",
       "    </tr>\n",
       "    <tr>\n",
       "      <th>6</th>\n",
       "      <td>117340374</td>\n",
       "      <td>181317</td>\n",
       "      <td>20181317</td>\n",
       "      <td>2022/4/21 17:17</td>\n",
       "      <td>380.0</td>\n",
       "      <td>212</td>\n",
       "      <td>3</td>\n",
       "      <td>309</td>\n",
       "      <td>商务大床房</td>\n",
       "    </tr>\n",
       "    <tr>\n",
       "      <th>7</th>\n",
       "      <td>117340515</td>\n",
       "      <td>181317</td>\n",
       "      <td>20181317</td>\n",
       "      <td>2022/4/22 11:48</td>\n",
       "      <td>80.0</td>\n",
       "      <td>213</td>\n",
       "      <td>0</td>\n",
       "      <td>103</td>\n",
       "      <td>特价房(无窗)</td>\n",
       "    </tr>\n",
       "    <tr>\n",
       "      <th>8</th>\n",
       "      <td>117305210</td>\n",
       "      <td>181318</td>\n",
       "      <td>20181318</td>\n",
       "      <td>2022/4/21 11:58</td>\n",
       "      <td>215.0</td>\n",
       "      <td>676</td>\n",
       "      <td>2</td>\n",
       "      <td>203</td>\n",
       "      <td>标准双人间</td>\n",
       "    </tr>\n",
       "    <tr>\n",
       "      <th>9</th>\n",
       "      <td>117331420</td>\n",
       "      <td>181318</td>\n",
       "      <td>20181318</td>\n",
       "      <td>2022/4/20 12:05</td>\n",
       "      <td>380.0</td>\n",
       "      <td>673</td>\n",
       "      <td>3</td>\n",
       "      <td>208</td>\n",
       "      <td>商务大床房</td>\n",
       "    </tr>\n",
       "  </tbody>\n",
       "</table>\n",
       "</div>"
      ],
      "text/plain": [
       "   OrderIndex  CardNo     PeoNo             Date  Money  CardCount  Type  \\\n",
       "0   117342773  181316  20181316  2022/4/20 20:17  380.0        818     3   \n",
       "1   117344766  181316  20181316   2022/4/20 8:47  380.0        814     3   \n",
       "2   117346258  181316  20181316   2022/4/22 7:27  165.0        820     1   \n",
       "3   117308066  181317  20181317   2022/4/21 7:46  380.0        211     3   \n",
       "4   117309001  181317  20181317  2022/4/19 22:31   40.0        209     5   \n",
       "5   117340105  181317  20181317  2022/4/20 12:14  165.0        210     1   \n",
       "6   117340374  181317  20181317  2022/4/21 17:17  380.0        212     3   \n",
       "7   117340515  181317  20181317  2022/4/22 11:48   80.0        213     0   \n",
       "8   117305210  181318  20181318  2022/4/21 11:58  215.0        676     2   \n",
       "9   117331420  181318  20181318  2022/4/20 12:05  380.0        673     3   \n",
       "\n",
       "   RoomNo RoomType  \n",
       "0     304    商务大床房  \n",
       "1     309    商务大床房  \n",
       "2     402    标准单人间  \n",
       "3     308    商务大床房  \n",
       "4     106      小时房  \n",
       "5     304    标准单人间  \n",
       "6     309    商务大床房  \n",
       "7     103  特价房(无窗)  \n",
       "8     203    标准双人间  \n",
       "9     208    商务大床房  "
      ]
     },
     "execution_count": 3,
     "metadata": {},
     "output_type": "execute_result"
    }
   ],
   "source": [
    "data.head(10)"
   ]
  },
  {
   "cell_type": "code",
   "execution_count": 7,
   "id": "91d20eda",
   "metadata": {},
   "outputs": [
    {
     "data": {
      "text/plain": [
       "pandas.core.series.Series"
      ]
     },
     "execution_count": 7,
     "metadata": {},
     "output_type": "execute_result"
    }
   ],
   "source": [
    "data.groupby(data[\"PeoNo\"])[\"Money\"].sum()"
   ]
  },
  {
   "cell_type": "code",
   "execution_count": null,
   "id": "d5125a30",
   "metadata": {},
   "outputs": [],
   "source": [
    "data.groupby(data[\"PeoNo\"])[\"Money\"].sum()"
   ]
  },
  {
   "cell_type": "code",
   "execution_count": 9,
   "id": "4bd2299c",
   "metadata": {},
   "outputs": [
    {
     "data": {
      "text/plain": [
       "0         20181316\n",
       "1         20181316\n",
       "2         20181316\n",
       "3         20181317\n",
       "4         20181317\n",
       "            ...   \n",
       "519362    20182706\n",
       "519363    20182706\n",
       "519364    20182706\n",
       "519365    20182706\n",
       "519366    20182707\n",
       "Name: PeoNo, Length: 519367, dtype: int64"
      ]
     },
     "execution_count": 9,
     "metadata": {},
     "output_type": "execute_result"
    }
   ],
   "source": [
    "data[\"PeoNo\"][]"
   ]
  },
  {
   "cell_type": "code",
   "execution_count": null,
   "id": "3aca96f8",
   "metadata": {},
   "outputs": [],
   "source": []
  },
  {
   "cell_type": "code",
   "execution_count": null,
   "id": "185a20cd",
   "metadata": {},
   "outputs": [],
   "source": []
  },
  {
   "cell_type": "code",
   "execution_count": null,
   "id": "b8e318e4",
   "metadata": {},
   "outputs": [],
   "source": []
  },
  {
   "cell_type": "code",
   "execution_count": null,
   "id": "a0eb498b",
   "metadata": {},
   "outputs": [],
   "source": []
  },
  {
   "cell_type": "code",
   "execution_count": null,
   "id": "a92280aa",
   "metadata": {},
   "outputs": [],
   "source": []
  },
  {
   "cell_type": "code",
   "execution_count": null,
   "id": "73518173",
   "metadata": {},
   "outputs": [],
   "source": []
  },
  {
   "cell_type": "code",
   "execution_count": null,
   "id": "6e2e5012",
   "metadata": {},
   "outputs": [],
   "source": []
  },
  {
   "cell_type": "code",
   "execution_count": null,
   "id": "8212af05",
   "metadata": {},
   "outputs": [],
   "source": []
  },
  {
   "cell_type": "code",
   "execution_count": null,
   "id": "9e214ba8",
   "metadata": {},
   "outputs": [],
   "source": []
  },
  {
   "cell_type": "code",
   "execution_count": null,
   "id": "dcf1d57c",
   "metadata": {},
   "outputs": [],
   "source": []
  },
  {
   "cell_type": "code",
   "execution_count": null,
   "id": "d760dc3e",
   "metadata": {},
   "outputs": [],
   "source": []
  },
  {
   "cell_type": "code",
   "execution_count": null,
   "id": "5160fbf3",
   "metadata": {},
   "outputs": [],
   "source": []
  },
  {
   "cell_type": "code",
   "execution_count": null,
   "id": "999b2b01",
   "metadata": {},
   "outputs": [],
   "source": []
  },
  {
   "cell_type": "code",
   "execution_count": null,
   "id": "1819007f",
   "metadata": {},
   "outputs": [],
   "source": []
  },
  {
   "cell_type": "code",
   "execution_count": null,
   "id": "a30828f7",
   "metadata": {},
   "outputs": [],
   "source": []
  },
  {
   "cell_type": "code",
   "execution_count": null,
   "id": "a181c2db",
   "metadata": {},
   "outputs": [],
   "source": []
  },
  {
   "cell_type": "code",
   "execution_count": null,
   "id": "c36306b4",
   "metadata": {},
   "outputs": [],
   "source": []
  }
 ],
 "metadata": {
  "kernelspec": {
   "display_name": "Python 3 (ipykernel)",
   "language": "python",
   "name": "python3"
  },
  "language_info": {
   "codemirror_mode": {
    "name": "ipython",
    "version": 3
   },
   "file_extension": ".py",
   "mimetype": "text/x-python",
   "name": "python",
   "nbconvert_exporter": "python",
   "pygments_lexer": "ipython3",
   "version": "3.7.5"
  }
 },
 "nbformat": 4,
 "nbformat_minor": 5
}
